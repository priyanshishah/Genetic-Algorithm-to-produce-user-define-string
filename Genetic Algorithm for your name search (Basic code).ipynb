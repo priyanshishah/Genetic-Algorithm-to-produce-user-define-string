{
 "cells": [
  {
   "cell_type": "code",
   "execution_count": 1,
   "metadata": {},
   "outputs": [],
   "source": [
    "geneSet=\"abcdefghijklmnopqrstuvwxyzABCDEFGHIJKLMNOPQRSTUVWXYZ!.\"\n",
    "target=\"PriyanshiShah\""
   ]
  },
  {
   "cell_type": "code",
   "execution_count": 2,
   "metadata": {},
   "outputs": [],
   "source": [
    "import random\n",
    "import datetime\n",
    "def gen_parent(length):\n",
    "    genes=[]\n",
    "    while len(genes)<length:\n",
    "            sampleSize=min(length-len(genes),len(geneSet))\n",
    "            genes.extend(random.sample(geneSet,sampleSize))\n",
    "    return ''.join(genes)"
   ]
  },
  {
   "cell_type": "code",
   "execution_count": 3,
   "metadata": {},
   "outputs": [],
   "source": [
    "def get_fitness(guess):\n",
    "      return sum(1 for expected,actual in zip(target,guess) if expected==actual)\n"
   ]
  },
  {
   "cell_type": "code",
   "execution_count": 4,
   "metadata": {},
   "outputs": [],
   "source": [
    "def mutate(parent):\n",
    "    index=random.randrange(0,len(parent))\n",
    "    childGenes=list(parent)\n",
    "    newGene,alternate=random.sample(geneSet,2)\n",
    "    childGenes[index]=alternate if newGene==childGenes[index] else newGene\n",
    "    return ''.join(childGenes)"
   ]
  },
  {
   "cell_type": "code",
   "execution_count": 5,
   "metadata": {},
   "outputs": [],
   "source": [
    "def display(guess):\n",
    "    timeDiff=datetime.datetime.now()-startTime\n",
    "    fitness=get_fitness(guess)\n",
    "    print(\"{}\\t{}\\t{}\".format(guess,fitness,timeDiff))\n"
   ]
  },
  {
   "cell_type": "code",
   "execution_count": 6,
   "metadata": {},
   "outputs": [
    {
     "name": "stdout",
     "output_type": "stream",
     "text": [
      "JVldMqmZGObft\t0\t0:00:00\n"
     ]
    }
   ],
   "source": [
    "random.seed()\n",
    "startTime=datetime.datetime.now()\n",
    "bestParent=gen_parent(len(target))\n",
    "bestFitness=get_fitness(bestParent)\n",
    "display(bestParent)"
   ]
  },
  {
   "cell_type": "code",
   "execution_count": 7,
   "metadata": {},
   "outputs": [
    {
     "name": "stdout",
     "output_type": "stream",
     "text": [
      "JVidMqmZGObft\t1\t0:08:43.367171\n",
      "JVidaqmZGObft\t2\t0:08:43.368168\n",
      "JVidaqmhGObft\t3\t0:08:43.368168\n",
      "JVidaqmhGObfh\t4\t0:08:43.370160\n",
      "JVidaqmhGOhfh\t5\t0:08:43.370160\n",
      "JViyaqmhGOhfh\t6\t0:08:43.372156\n",
      "JViyaqshGOhfh\t7\t0:08:43.373154\n",
      "JViyanshGOhfh\t8\t0:08:43.374149\n",
      "PViyanshGOhfh\t9\t0:08:43.374149\n",
      "PViyanshGOhah\t10\t0:08:43.377142\n",
      "PViyanshiOhah\t11\t0:08:43.380138\n",
      "PViyanshiShah\t12\t0:08:43.385121\n",
      "PriyanshiShah\t13\t0:08:43.393100\n"
     ]
    }
   ],
   "source": [
    "while True:\n",
    "    child=mutate(bestParent)\n",
    "    childFitness=get_fitness(child)\n",
    "    if bestFitness>=childFitness:\n",
    "           continue\n",
    "    display(child)\n",
    "    if childFitness>=len(bestParent):\n",
    "           break\n",
    "    bestFitness=childFitness\n",
    "    bestParent=child"
   ]
  },
  {
   "cell_type": "code",
   "execution_count": null,
   "metadata": {},
   "outputs": [],
   "source": []
  }
 ],
 "metadata": {
  "kernelspec": {
   "display_name": "Python 3",
   "language": "python",
   "name": "python3"
  },
  "language_info": {
   "codemirror_mode": {
    "name": "ipython",
    "version": 3
   },
   "file_extension": ".py",
   "mimetype": "text/x-python",
   "name": "python",
   "nbconvert_exporter": "python",
   "pygments_lexer": "ipython3",
   "version": "3.7.0"
  }
 },
 "nbformat": 4,
 "nbformat_minor": 2
}
